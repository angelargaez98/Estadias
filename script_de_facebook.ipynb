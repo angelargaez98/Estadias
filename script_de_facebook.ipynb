{
 "cells": [
  {
   "cell_type": "markdown",
   "metadata": {},
   "source": [
    "# librerias usadas"
   ]
  },
  {
   "cell_type": "code",
   "execution_count": 71,
   "metadata": {},
   "outputs": [],
   "source": [
    "import requests\n",
    "from bs4 import BeautifulSoup\n",
    "import pandas as pd\n",
    "\n"
   ]
  },
  {
   "cell_type": "markdown",
   "metadata": {},
   "source": [
    "# Url e todos los periodicos "
   ]
  },
  {
   "cell_type": "code",
   "execution_count": 220,
   "metadata": {},
   "outputs": [],
   "source": [
    "prensa = requests.get(\"https://www.facebook.com/pg/Prensa-yucatan-104415811068105/posts/?ref=page_internal\")\n",
    "diario = requests.get(\"https://www.facebook.com/pg/DiariodeYucatan/posts/?ref=page_internal\")\n",
    "depeso = requests.get(\"https://es-la.facebook.com/pg/Depesoyuc/posts/?ref=page_internal\")\n",
    "cuarto_poder= requests.get(\"https://www.facebook.com/pg/CuartoPoderYucatan/posts/?ref=page_internal\")\n",
    "lai = requests.get(\"https://es-la.facebook.com/pg/LaIYucatan/posts/?ref=page_internal\")\n",
    "novedades = requests.get(\"https://es-la.facebook.com/pg/NovedadesYucatan/posts/?ref=page_internal\")\n",
    "puntomedio = requests.get(\"https://www.facebook.com/pg/PuntoMedioRT/posts/?ref=page_internal\")\n",
    "laverdad = requests.get(\"https://es-la.facebook.com/pg/laverdadyucatan/posts/?ref=page_internal\")\n",
    "alchile = requests.get(\"https://es-la.facebook.com/pg/alchilereal/posts/?ref=page_internal\")\n",
    "Diario_peninsular = requests.get(\"https://www.facebook.com/pg/DiarioPeninsular/posts/?ref=page_internal\")\n"
   ]
  },
  {
   "cell_type": "markdown",
   "metadata": {},
   "source": [
    "# extracion de los elementos de cada periodico "
   ]
  },
  {
   "cell_type": "code",
   "execution_count": 154,
   "metadata": {},
   "outputs": [],
   "source": [
    "#prensa: periodico 1\n",
    "Prensa_cont = BeautifulSoup(prensa.content, 'html.parser') \n",
    "element_prensa= Prensa_cont.find_all('p')\n",
    "df_Prensa = pd.DataFrame({\"noticias\": element_prensa,})\n"
   ]
  },
  {
   "cell_type": "code",
   "execution_count": 170,
   "metadata": {},
   "outputs": [],
   "source": [
    "#Diario : periodico 2\n",
    "diario_cont = BeautifulSoup(diario.content,'html.parser')\n",
    "element_diario= diario_cont.find_all('p')\n",
    "Diario_text = [pt.get_text() for pt in element_diario]\n",
    "df_diario = pd.DataFrame({\"noticias\": Diario_text,})"
   ]
  },
  {
   "cell_type": "code",
   "execution_count": 183,
   "metadata": {},
   "outputs": [],
   "source": [
    "#Depeso : periodico 3\n",
    "depeso_cont = BeautifulSoup(depeso.content,'html.parser')\n",
    "element_depeso= depeso_cont.find_all('p')\n",
    "depeso_text = [pt.get_text() for pt in element_depeso]\n",
    "df_depeso = pd.DataFrame({\"noticias\": depeso_text})"
   ]
  },
  {
   "cell_type": "code",
   "execution_count": 187,
   "metadata": {},
   "outputs": [],
   "source": [
    "#cuarto_poder : periodico 4\n",
    "cuarto_cont = BeautifulSoup(cuarto_poder.content,'html.parser')\n",
    "element_cuarto= cuarto_cont.find_all('p')\n",
    "cuarto_text = [pt.get_text() for pt in element_cuarto]\n",
    "df_cuarto = pd.DataFrame({\"noticias\": cuarto_text,})"
   ]
  },
  {
   "cell_type": "code",
   "execution_count": 201,
   "metadata": {},
   "outputs": [],
   "source": [
    "#la_I : periodico 5 \n",
    "la_I_cont = BeautifulSoup(lai.content,'html.parser')\n",
    "element_la_I= la_I_cont.find_all('p')\n",
    "la_I_text = [pt.get_text() for pt in element_la_I]\n",
    "df_la_I = pd.DataFrame({\"noticias\": la_I_text,})"
   ]
  },
  {
   "cell_type": "code",
   "execution_count": 203,
   "metadata": {},
   "outputs": [],
   "source": [
    "#novedades : periodico 6 \n",
    "novedades_cont = BeautifulSoup(novedades.content,'html.parser')\n",
    "element_novedades= novedades_cont.find_all('p')\n",
    "novedades_text = [pt.get_text() for pt in element_novedades]\n",
    "df_novedades = pd.DataFrame({\"noticias\": novedades_text,})"
   ]
  },
  {
   "cell_type": "code",
   "execution_count": 208,
   "metadata": {},
   "outputs": [],
   "source": [
    "#puntomedio : periodico 7\n",
    "puntomedio_cont = BeautifulSoup(puntomedio.content,'html.parser')\n",
    "element_puntomedio= puntomedio_cont.find_all('p')\n",
    "puntomedio_text = [pt.get_text() for pt in element_puntomedio]\n",
    "df_puntomedio = pd.DataFrame({\"noticias\": puntomedio_text,})\n"
   ]
  },
  {
   "cell_type": "code",
   "execution_count": 216,
   "metadata": {},
   "outputs": [],
   "source": [
    "#laverdad : periodico 8\n",
    "laverdad_cont = BeautifulSoup(laverdad.content,'html.parser')\n",
    "element_laverdad= laverdad_cont.find_all('p')\n",
    "laverdad_text = [pt.get_text() for pt in element_laverdad]\n",
    "df_laverdad = pd.DataFrame({\"noticias\": laverdad_text,})"
   ]
  },
  {
   "cell_type": "code",
   "execution_count": 219,
   "metadata": {},
   "outputs": [],
   "source": [
    "#alchile : periodico 9\n",
    "alchile_cont = BeautifulSoup(alchile.content,'html.parser')\n",
    "element_alchile= alchile_cont.find_all('p')\n",
    "alchile_text = [pt.get_text() for pt in element_alchile]\n",
    "df_alchile = pd.DataFrame({\"noticias\": alchile_text,})"
   ]
  },
  {
   "cell_type": "code",
   "execution_count": 221,
   "metadata": {},
   "outputs": [],
   "source": [
    "#Diario_peninsular : periodico 10\n",
    "Diario_peninsular_cont = BeautifulSoup(Diario_peninsular.content,'html.parser')\n",
    "element_Diario_peninsular=Diario_peninsular_cont.find_all('p')\n",
    "Diario_peninsular_text = [pt.get_text() for pt in element_Diario_peninsular]\n",
    "df_Diario_peninsular = pd.DataFrame({\"noticias\": Diario_peninsular_text,})"
   ]
  },
  {
   "cell_type": "code",
   "execution_count": null,
   "metadata": {},
   "outputs": [],
   "source": []
  },
  {
   "cell_type": "code",
   "execution_count": null,
   "metadata": {},
   "outputs": [],
   "source": []
  },
  {
   "cell_type": "code",
   "execution_count": null,
   "metadata": {},
   "outputs": [],
   "source": []
  },
  {
   "cell_type": "code",
   "execution_count": null,
   "metadata": {},
   "outputs": [],
   "source": []
  },
  {
   "cell_type": "code",
   "execution_count": null,
   "metadata": {},
   "outputs": [],
   "source": []
  },
  {
   "cell_type": "code",
   "execution_count": null,
   "metadata": {},
   "outputs": [],
   "source": []
  },
  {
   "cell_type": "code",
   "execution_count": null,
   "metadata": {},
   "outputs": [],
   "source": []
  },
  {
   "cell_type": "code",
   "execution_count": null,
   "metadata": {},
   "outputs": [],
   "source": []
  }
 ],
 "metadata": {
  "kernelspec": {
   "display_name": "Python 3",
   "language": "python",
   "name": "python3"
  },
  "language_info": {
   "codemirror_mode": {
    "name": "ipython",
    "version": 3
   },
   "file_extension": ".py",
   "mimetype": "text/x-python",
   "name": "python",
   "nbconvert_exporter": "python",
   "pygments_lexer": "ipython3",
   "version": "3.7.4"
  }
 },
 "nbformat": 4,
 "nbformat_minor": 2
}
