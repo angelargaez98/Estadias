{
 "cells": [
  {
   "cell_type": "code",
   "execution_count": 6,
   "metadata": {},
   "outputs": [],
   "source": [
    "import requests\n",
    "prensa= requests.get(\"https://www.prensa.com/\")"
   ]
  },
  {
   "cell_type": "code",
   "execution_count": 7,
   "metadata": {},
   "outputs": [],
   "source": [
    "from bs4 import BeautifulSoup\n",
    "soup = BeautifulSoup(prensa.content, 'html.parser')"
   ]
  },
  {
   "cell_type": "code",
   "execution_count": 8,
   "metadata": {},
   "outputs": [
    {
     "name": "stdout",
     "output_type": "stream",
     "text": [
      "if(!Array.prototype.includes||!(window.Object && window.Object.assign)||!window.Promise||!window.Symbol||!window.fetch){document.write('<script type=\"application/javascript\" src=\"/pf/dist/engine/polyfill.js?d=301\" defer=\"\"><\\/script>')}La Prensa Panamá | Noticias de Panamá e Internacionales[ { \"@context\": \"http://schema.org\", \"@type\": \"Organization\", \"name\": \"La Prensa Panamá\", \"url\": \"https://www.prensa.com\", \"sameAs\": [ \"https://www.prensa.com/arcio/sitemap\" ], \"logo\": { \"@context\": \"http://schema.org\", \"@type\": \"ImageObject\", \"url\": \"https://multimedia.corprensa.com/la-prensa/assets/favicon.ico\", \"width\": \"32\", \"height\": \"32\" } }, { \"@context\": \"http://schema.org\", \"@type\": \"WebSite\", \"name\": \"La Prensa Panamá\", \"url\": \"https://www.prensa.com/\", \"potentialAction\": [ { \"@context\": \"http://schema.org\", \"@type\": \"SearchAction\", \"target\": \"https://www.prensa.com/busqueda/{search_term_string}\", \"query-input\": \"required name=search_term_string\" } ], \"sameAs\": [ \"https://www.youtube.com/user/prensacom1\", \"https://twitter.com/prensacom\", \"https://www.facebook.com/prensacom\", \"https://www.instagram.com/prensacom\", \"https://www.prensa.com/arcio/sitemap\" ] } ]footer .footer-brands .site-link { background-image: url('https://multimedia.corprensa.com/la-prensa/assets/sprite_footer.png') }var googletag = googletag || {}; googletag.cmd = googletag.cmd || [];(function(w,d,s,l,i){w[l]=w[l]||[];w[l].push({'gtm.start':new Date().getTime(),event:'gtm.js'});var f=d.getElementsByTagName(s)[0],j=d.createElement(s),dl=l!='dataLayer'?'&l='+l:'';j.async=true;j.src='https://www.googletagmanager.com/gtm.js?id='+i+dl;f.parentNode.insertBefore(j,f);})(window,document,'script','dataLayer','GTM-MT7266Z');window.dataLayer = window.dataLayer || []; function gtag(){dataLayer.push(arguments);} gtag('js', new Date());.async-hide { opacity: 0 !important }(function(a,s,y,n,c,h,i,d,e){s.className+=' '+y;h.start=1*new Date; h.end=i=function(){s.className=s.className.replace(RegExp(' ?'+y),'')}; (a[n]=a[n]||[]).hide=h;setTimeout(function(){i();h.end=null},c);h.timeout=c; })(window,document.documentElement,'async-hide','dataLayer',4000, {'GTM-MT7266Z':true});var OneSignal = window.OneSignal || [];OneSignal.push(function() {OneSignal.init({appId: \"12d9d815-676c-4734-b5e0-3ff146a9e3c9\",});});var person = JSON.parse(localStorage.getItem('nvgpersona21360')); var cX = window.cX = window.cX || {}; cX.callQueue = cX.callQueue || []; cX.CCE = cX.CCE || {}; cX.CCE.callQueue = cX.CCE.callQueue || []; cX.callQueue.push(['setSiteId', '1146323210311019927']); var cp = {}; cp[\"hour\"] = moment().tz(\"America/Panama\").format('H'); cp[\"wday\"] = moment().tz(\"America/Panama\").format('ddd'); cp[\"month\"] = moment().tz(\"America/Panama\").format('MMM'); cp[\"person_gender\"] = person[\"gender\"] != null ? person[\"gender\"] : \"\"; cp[\"person_age\"] = person[\"age\"] != null ? person[\"age\"] : \"\"; cp[\"person_income\"] = person[\"pincome\"] != null ? person[\"pincome\"].replace(\"Plus\", \"\") : \"\"; cp[\"person_education\"] = person[\"peducation\"] != null ? person[\"peducation\"].replace(\"Plus\", \"\") : \"\"; cp[\"person_marital\"] = person[\"pmarital\"] != null ? person[\"pmarital\"].replace(\"Plus\", \"\") : \"\"; cp[\"person_interest1\"] = person[\"interest\"][0] != null ? person[\"interest\"][0] : \"\"; cp[\"person_interest2\"] = person[\"interest\"][1] != null ? person[\"interest\"][1] : \"\"; cp[\"person_interest3\"] = person[\"interest\"][2] != null ? person[\"interest\"][2] : \"\"; cp[\"person_interest4\"] = person[\"interest\"][3] != null ? person[\"interest\"][3] : \"\"; cp[\"person_interest5\"] = person[\"interest\"][4] != null ? person[\"interest\"][4] : \"\"; cp[\"person_product1\"] = person[\"product\"][0] != null ? person[\"interest\"][0] : \"\"; cp[\"person_product2\"] = person[\"product\"][1] != null ? person[\"interest\"][1] : \"\"; cX.callQueue.push([\"setCustomParameters\", {\"hour\": cp[\"hour\"]}]); cX.callQueue.push([\"setCustomParameters\", {\"wday\": cp[\"wday\"]}]); cX.callQueue.push([\"setCustomParameters\", {\"month\": cp[\"month\"]}]); cX.callQueue.push([\"setCustomParameters\", {\"person_gender\": cp[\"person_gender\"]}]); cX.callQueue.push([\"setCustomParameters\", {\"person_age\": cp[\"person_age\"]}]); cX.callQueue.push([\"setCustomParameters\", {\"person_income\": cp[\"person_income\"]}]); cX.callQueue.push([\"setCustomParameters\", {\"person_education\": cp[\"person_education\"]}]); cX.callQueue.push([\"setCustomParameters\", {\"person_marital\": cp[\"person_marital\"]}]); cX.callQueue.push([\"setCustomParameters\", {\"person_interest1\": cp[\"person_interest1\"]}]); cX.callQueue.push([\"setCustomParameters\", {\"person_interest2\": cp[\"person_interest2\"]}]); cX.callQueue.push([\"setCustomParameters\", {\"person_interest3\": cp[\"person_interest3\"]}]); cX.callQueue.push([\"setCustomParameters\", {\"person_interest4\": cp[\"person_interest4\"]}]); cX.callQueue.push([\"setCustomParameters\", {\"person_interest5\": cp[\"person_interest5\"]}]); cX.callQueue.push([\"setCustomParameters\", {\"person_product1\": cp[\"person_product1\"]}]); cX.callQueue.push([\"setCustomParameters\", {\"person_product2\": cp[\"person_product2\"]}]); if (localStorage.getItem('evolok:ev_session') != null) { cX.addExternalId({'id': JSON.parse(localStorage.getItem('evolok:ev_session'))[\"guid\"], 'type': 'cor'}); } cX.CCE.callQueue.push(['sendPageViewEvent']); (function(d,s,e,t){e=d.createElement(s);e.type='text/java'+s;e.async='async';e.src='https://cdn.cxense.com/cx.cce.js';t=d.getElementsByTagName(s)[0];t.parentNode.insertBefore(e,t);})(document,'script');(function(d,s,e,t){e=d.createElement(s);e.type='text/java'+s;e.async='async';e.src='http'+('https:'===location.protocol?'s://s':'://')+'cdn.cxense.com/cx.js';t=d.getElementsByTagName(s)[0];t.parentNode.insertBefore(e,t);})(document,'script');\n",
      "(window.BOOMR_mq=window.BOOMR_mq||[]).push([\"addVar\",{\"rua.upush\":\"false\",\"rua.cpush\":\"false\",\"rua.upre\":\"false\",\"rua.cpre\":\"false\",\"rua.uprl\":\"false\",\"rua.cprl\":\"false\",\"rua.cprf\":\"false\",\"rua.trans\":\"\",\"rua.cook\":\"false\",\"rua.ims\":\"false\",\"rua.ufprl\":\"false\",\"rua.cfprl\":\"false\"}]);\n",
      "!function(a){var e=\"https://s.go-mpulse.net/boomerang/\",t=\"addEventListener\";if(\"False\"==\"True\")a.BOOMR_config=a.BOOMR_config||{},a.BOOMR_config.PageParams=a.BOOMR_config.PageParams||{},a.BOOMR_config.PageParams.pci=!0,e=\"https://s2.go-mpulse.net/boomerang/\";if(window.BOOMR_API_key=\"FZ45R-XNEYK-7JYPC-93F5Q-T5UPP\",function(){function n(e){a.BOOMR_onload=e&&e.timeStamp||(new Date).getTime()}if(!a.BOOMR||!a.BOOMR.version&&!a.BOOMR.snippetExecuted){a.BOOMR=a.BOOMR||{},a.BOOMR.snippetExecuted=!0;var i,o,_,r=document.createElement(\"iframe\");if(a[t])a[t](\"load\",n,!1);else if(a.attachEvent)a.attachEvent(\"onload\",n);r.src=\"javascript:void(0)\",r.title=\"\",r.role=\"presentation\",(r.frameElement||r).style.cssText=\"width:0;height:0;border:0;display:none;\",_=document.getElementsByTagName(\"script\")[0],_.parentNode.insertBefore(r,_);try{o=r.contentWindow.document}catch(O){i=document.domain,r.src=\"javascript:var d=document.open();d.domain='\"+i+\"';void(0);\",o=r.contentWindow.document}o.open()._l=function(){var a=this.createElement(\"script\");if(i)this.domain=i;a.id=\"boomr-if-as\",a.src=e+\"FZ45R-XNEYK-7JYPC-93F5Q-T5UPP\",BOOMR_lstart=(new Date).getTime(),this.body.appendChild(a)},o.write(\"<bo\"+'dy onload=\"document._l();\">'),o.close()}}(),\"\".length>0)if(a&&\"performance\"in a&&a.performance&&\"function\"==typeof a.performance.setResourceTimingBufferSize)a.performance.setResourceTimingBufferSize();!function(){if(BOOMR=a.BOOMR||{},BOOMR.plugins=BOOMR.plugins||{},!BOOMR.plugins.AK){var e=\"\"==\"true\"?1:0,t=\"\",n=\"xwwoezf566teaxwhgo5q-f-43bb9cc04-clientnsv4-s.akamaihd.net\",i={\"ak.v\":\"27\",\"ak.cp\":\"832419\",\"ak.ai\":parseInt(\"528668\",10),\"ak.ol\":\"0\",\"ak.cr\":452,\"ak.ipv\":4,\"ak.proto\":\"\",\"ak.rid\":\"1174109d\",\"ak.r\":28514,\"ak.a2\":e,\"ak.m\":\"\",\"ak.n\":\"essl\",\"ak.bpcip\":\"189.172.226.0\",\"ak.cport\":54949,\"ak.gh\":\"189.247.166.60\",\"ak.quicv\":\"\",\"ak.tlsv\":\"tls1.3\",\"ak.0rtt\":\"\",\"ak.csrc\":\"-\",\"ak.acc\":\"reno\",\"ak.t\":\"1590113211\",\"ak.ak\":\"hOBiQwZUYzCg5VSAfCLimQ==mBZyc2YedMfVmTgW7DXqnGCD6q77xXWZ4Sw6mrZgpojflQDENNlpww6X48HIxCRuf3kZVXoue4vqNEk9+jx1zJXw+Q/DRt4YA+PUKe2lXuKBZ5l9cYJjBNQ1Az6aNpn0hihy7Bay61HfrqeAyANk1cT3Iis9RHhj1NWXuyFt63Yl4DHWITTWmgzgJhuzS/hRHvl84N2dPjB6iie+3wRizKpAn7+PzY2CFGZTg4w6zCzpSLADkqSXgLqaDLZwmHoONb+FyKfck+FqcdzMWcriPkGSNfBr+vnzo8oMjjwLrZHpdtzlmTtXZ7/vbTzgv0n8jqf5G9P1AAK9tY1GlJ1cVvBZNy2vJ7TgWiJsJvJV6m+Oh7wTCECKgYKfUPgUx20zBYnE65h8NjEk8uRrqckEb+t/TDdpSD2wKffBv/88g98=\",\"ak.pv\":\"15\"};if(\"\"!==t)i[\"ak.ruds\"]=t;var o={i:!1,av:function(e){var t=\"http.initiator\";if(e&&(!e[t]||\"spa_hard\"===e[t]))i[\"ak.feo\"]=void 0!==a.aFeoApplied?1:0,BOOMR.addVar(i)},rv:function(){var a=[\"ak.bpcip\",\"ak.cport\",\"ak.cr\",\"ak.csrc\",\"ak.gh\",\"ak.ipv\",\"ak.m\",\"ak.n\",\"ak.ol\",\"ak.proto\",\"ak.quicv\",\"ak.tlsv\",\"ak.0rtt\",\"ak.r\",\"ak.acc\",\"ak.t\"];BOOMR.removeVar(a)}};BOOMR.plugins.AK={akVars:i,akDNSPreFetchDomain:n,init:function(){if(!o.i){var a=BOOMR.subscribe;a(\"before_beacon\",o.av,null,null),a(\"onbeacon\",o.rv,null,null),o.i=!0}return this},is_complete:function(){return!0}}}}()}(window);Temas de Hoy:COVID-19: UNA AMENAZA MUNDIALDEPORTESECONOMIACIENCIA Y SALUDCARICATURASLoteríaHoróscopoAriesTauroGeminisCancerLeoVirgoLibraEscorpioSagitarioCapricornioAcuarioPiscisEdición ImpresaAÑO20202019201820172016201520142013201220112010200920082007200620052004200320022001MES010203040506070809101112DÍA01020304050607080910111213141516171819202122232425262728293031También te puede interesar...Asistente Financieroasistentefinanciero.comSolicita 100% en línea tu Tarjeta de Crédito con pre-aprobación inmediata o encuentra el seguro para tu auto con las mejores aseguradoras de Panamá.Ellasellas.paTu espacio para encontrar información e inspiraciónMartes Financieromartesfinanciero.comContenido financiero que hace noticia en Panamá y el mundo.Revista K@revistakPeriodismo social y cultural con perspectiva moderna.Club La Prensaclub.prensa.comVive diariamente diversas experiencias con el Club del que todos hablan.Metro por Metrometropormetro.comPortal de propiedades nuevas en Panamá.Advertencia: Todo el contenido de www.prensa.com pertenece a Corporación La Prensa, S.A. Razón por la cual, el material publicado no se puede reproducir, copiar o transmitir sin previa autorización por escrito de Corporación La Prensa, S.A. Le agradecemos su cooperación y sugerencias a suscripciones@prensa.com y Servicio al Cliente. En caso de necesitar mayor información, llámenos al 323-6400.Contacte con La PrensaCorporativo CorprensaLa PrensaMi DiarioEllasMartes FinancieroRevista KContent StudioTus TiquetesPrograma EducativoBusca FácilClub de Suscriptores de La PrensaA la Mesaf5paMetro por MetroImpresa PlusAsistente FinancieroInicia SesiónHazte SocioPerfilCerrar SesiónIniciar SesiónRegistroPolíticas de Privacidadwindow.Fusion=window.Fusion||{};Fusion.deployment='301';Fusion.arcSite='la-prensa';Fusion.lastModified=1590113207191;Fusion.globalContent={\"_id\":\"44136fa355b3678a1146ad16f7e8649e94fb4fc21fe77e8310c060f61caaff8a\"};Fusion.globalContentConfig={\"source\":\"print\",\"query\":{\"arc-site\":\"la-prensa\"}};Fusion.contentCache={};\n"
     ]
    }
   ],
   "source": [
    "print(soup.get_text())"
   ]
  },
  {
   "cell_type": "code",
   "execution_count": 17,
   "metadata": {},
   "outputs": [],
   "source": [
    "pre= soup.findAll(class_=\"story-box\")"
   ]
  },
  {
   "cell_type": "code",
   "execution_count": null,
   "metadata": {},
   "outputs": [],
   "source": []
  },
  {
   "cell_type": "code",
   "execution_count": 45,
   "metadata": {},
   "outputs": [
    {
     "data": {
      "text/plain": [
       "['Asistente Financieroasistentefinanciero.comSolicita 100% en línea tu Tarjeta de Crédito con pre-aprobación inmediata o encuentra el seguro para tu auto con las mejores aseguradoras de Panamá.',\n",
       " 'Ellasellas.paTu espacio para encontrar información e inspiración',\n",
       " 'Martes Financieromartesfinanciero.comContenido financiero que hace noticia en Panamá y el mundo.',\n",
       " 'Revista K@revistakPeriodismo social y cultural con perspectiva moderna.',\n",
       " 'Club La Prensaclub.prensa.comVive diariamente diversas experiencias con el Club del que todos hablan.',\n",
       " 'Metro por Metrometropormetro.comPortal de propiedades nuevas en Panamá.']"
      ]
     },
     "execution_count": 45,
     "metadata": {},
     "output_type": "execute_result"
    }
   ],
   "source": [
    "prensa = [pt.get_text() for pt in pre]\n",
    "prensa"
   ]
  },
  {
   "cell_type": "code",
   "execution_count": 47,
   "metadata": {},
   "outputs": [
    {
     "data": {
      "text/html": [
       "<div>\n",
       "<style scoped>\n",
       "    .dataframe tbody tr th:only-of-type {\n",
       "        vertical-align: middle;\n",
       "    }\n",
       "\n",
       "    .dataframe tbody tr th {\n",
       "        vertical-align: top;\n",
       "    }\n",
       "\n",
       "    .dataframe thead th {\n",
       "        text-align: right;\n",
       "    }\n",
       "</style>\n",
       "<table border=\"1\" class=\"dataframe\">\n",
       "  <thead>\n",
       "    <tr style=\"text-align: right;\">\n",
       "      <th></th>\n",
       "      <th>noticias</th>\n",
       "    </tr>\n",
       "  </thead>\n",
       "  <tbody>\n",
       "    <tr>\n",
       "      <td>0</td>\n",
       "      <td>Asistente Financieroasistentefinanciero.comSol...</td>\n",
       "    </tr>\n",
       "    <tr>\n",
       "      <td>1</td>\n",
       "      <td>Ellasellas.paTu espacio para encontrar informa...</td>\n",
       "    </tr>\n",
       "    <tr>\n",
       "      <td>2</td>\n",
       "      <td>Martes Financieromartesfinanciero.comContenido...</td>\n",
       "    </tr>\n",
       "    <tr>\n",
       "      <td>3</td>\n",
       "      <td>Revista K@revistakPeriodismo social y cultural...</td>\n",
       "    </tr>\n",
       "    <tr>\n",
       "      <td>4</td>\n",
       "      <td>Club La Prensaclub.prensa.comVive diariamente ...</td>\n",
       "    </tr>\n",
       "    <tr>\n",
       "      <td>5</td>\n",
       "      <td>Metro por Metrometropormetro.comPortal de prop...</td>\n",
       "    </tr>\n",
       "  </tbody>\n",
       "</table>\n",
       "</div>"
      ],
      "text/plain": [
       "                                            noticias\n",
       "0  Asistente Financieroasistentefinanciero.comSol...\n",
       "1  Ellasellas.paTu espacio para encontrar informa...\n",
       "2  Martes Financieromartesfinanciero.comContenido...\n",
       "3  Revista K@revistakPeriodismo social y cultural...\n",
       "4  Club La Prensaclub.prensa.comVive diariamente ...\n",
       "5  Metro por Metrometropormetro.comPortal de prop..."
      ]
     },
     "execution_count": 47,
     "metadata": {},
     "output_type": "execute_result"
    }
   ],
   "source": [
    "import pandas as pd\n",
    "laprensa = pd.DataFrame({\n",
    "    \"noticias\": prensa,\n",
    "   \n",
    "})\n",
    "laprensa"
   ]
  },
  {
   "cell_type": "code",
   "execution_count": 48,
   "metadata": {},
   "outputs": [],
   "source": [
    "laprensa.to_csv('la_prensa_panama.csv')"
   ]
  }
 ],
 "metadata": {
  "kernelspec": {
   "display_name": "Python 3",
   "language": "python",
   "name": "python3"
  },
  "language_info": {
   "codemirror_mode": {
    "name": "ipython",
    "version": 3
   },
   "file_extension": ".py",
   "mimetype": "text/x-python",
   "name": "python",
   "nbconvert_exporter": "python",
   "pygments_lexer": "ipython3",
   "version": "3.7.4"
  }
 },
 "nbformat": 4,
 "nbformat_minor": 2
}
