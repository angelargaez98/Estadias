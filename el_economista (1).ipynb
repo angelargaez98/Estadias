{
 "cells": [
  {
   "cell_type": "code",
   "execution_count": 23,
   "metadata": {},
   "outputs": [],
   "source": [
    "\n",
    "from urllib.request import urlopen"
   ]
  },
  {
   "cell_type": "code",
   "execution_count": 24,
   "metadata": {},
   "outputs": [],
   "source": [
    "from urllib.error import HTTPError"
   ]
  },
  {
   "cell_type": "code",
   "execution_count": 26,
   "metadata": {},
   "outputs": [],
   "source": [
    "from bs4 import BeautifulSoup"
   ]
  },
  {
   "cell_type": "code",
   "execution_count": 50,
   "metadata": {},
   "outputs": [
    {
     "data": {
      "text/plain": [
       "[<h2 class=\"g1-gamma g1lg-alpha g1-gamma-1st entry-title\"><a href=\"https://www.yucatan.com.mx/mexico/la-suprema-corte-tira-la-ley-bonilla-la-declara-inconstitucional\" rel=\"bookmark\">La Suprema Corte tira la \"Ley Bonilla\", la declara inconstitucional</a></h2>,\n",
       " <h2 class=\"g1-gamma g1-gamma-1st entry-title\"><a href=\"https://www.yucatan.com.mx/mexico/llegan-a-1118-casos-de-covid-19-y-189-muertes-en-quintana-roo\" rel=\"bookmark\">Llegan a 1,118 casos de Covid-19 y 189 muertes en Quintana Roo</a></h2>,\n",
       " <h2 class=\"g1-gamma g1-gamma-1st entry-title\"><a href=\"https://www.yucatan.com.mx/mexico/militares-realizaran-labores-de-seguridad-publica-de-manana-a-2024\" rel=\"bookmark\">Militares realizarán labores de seguridad pública de mañana a 2024</a></h2>,\n",
       " <h2 class=\"g1-gamma g1-gamma-1st entry-title\"><a href=\"https://www.yucatan.com.mx/internacional/la-mujer-mas-longeva-de-espana-supera-el-covid-19-tiene-113-anos\" rel=\"bookmark\">La mujer más longeva de España supera el Covid-19; tiene 113 años</a></h2>,\n",
       " <h2 class=\"g1-gamma g1-gamma-1st entry-title\"><a href=\"https://www.yucatan.com.mx/internacional/banco-central-de-japon-nombra-primera-directora-ejecutiva-de-su-historia\" rel=\"bookmark\">Banco Central de Japón nombra primera directora ejecutiva de su historia</a></h2>,\n",
       " <h2 class=\"g1-gamma g1-gamma-1st entry-title\"><a href=\"https://www.yucatan.com.mx/mexico/investigan-homicidio-de-exjudicial-y-su-familia-en-la-carretera-a-xulha\" rel=\"bookmark\">Investigan homicidio de exjudicial y su familia en la carretera a XulHa</a></h2>,\n",
       " <h2 class=\"g1-gamma g1-gamma-1st entry-title\"><a href=\"https://www.yucatan.com.mx/deportes/en-redes-sociales-matan-a-rey-mysterio-tras-perder-en-money-in-the-bank\" rel=\"bookmark\">En redes sociales \"matan\" a Rey Mysterio tras perder en \"Money in the bank\"</a></h2>,\n",
       " <h2 class=\"g1-gamma g1-gamma-1st entry-title\"><a href=\"https://www.yucatan.com.mx/internacional/la-mujer-mas-longeva-de-espana-supera-el-covid-19-tiene-113-anos\" rel=\"bookmark\">La mujer más longeva de España supera el Covid-19; tiene 113 años</a></h2>,\n",
       " <h2 class=\"g1-gamma g1-gamma-1st entry-title\"><a href=\"https://www.yucatan.com.mx/mexico/adultos-mayores-contagiados-de-covid-19-en-un-asilo-ya-en-el-hospital\" rel=\"bookmark\">Adultos mayores contagiados de Covid-19 en un asilo, ya en el hospital</a></h2>,\n",
       " <h2 class=\"g1-gamma g1-gamma-1st entry-title\"><a href=\"https://www.yucatan.com.mx/deportes/lionel-messi-dona-medio-millon-de-euros-a-hospitales-en-argentina\" rel=\"bookmark\">Lionel Messi dona medio millón de euros a hospitales en Argentina</a></h2>,\n",
       " <h2 class=\"g1-gamma g1-gamma-1st entry-title\"><a href=\"https://www.yucatan.com.mx/internacional/america/donald-trump-en-riesgo-ante-contagios-de-covid-19-entre-el-personal-de-la-casa-blanca\" rel=\"bookmark\">Donald Trump en riesgo ante contagios de Covid-19 entre el personal de la Casa Blanca</a></h2>,\n",
       " <h2 class=\"g1-gamma g1-gamma-1st entry-title\"><a href=\"https://www.yucatan.com.mx/mexico/llegan-a-1118-casos-de-covid-19-y-189-muertes-en-quintana-roo\" rel=\"bookmark\">Llegan a 1,118 casos de Covid-19 y 189 muertes en Quintana Roo</a></h2>,\n",
       " <h2 class=\"g1-gamma g1-gamma-1st entry-title\"><a href=\"https://www.yucatan.com.mx/mexico/esta-semana-anunciaran-el-plan-para-reanudar-actividades-en-mexico\" rel=\"bookmark\">Esta semana anunciarán el plan para reanudar actividades en México</a></h2>,\n",
       " <h2 class=\"g1-gamma g1-gamma-1st entry-title\"><a href=\"https://www.yucatan.com.mx/merida/gabino-roman-y-dona-cheli-reconocidos-por-video-viral-de-la-tortuga\" rel=\"bookmark\">Gabino, Román y Doña Cheli, reconocidos por vídeo viral de la tortuga</a></h2>,\n",
       " <h2 class=\"g1-gamma g1-gamma-1st entry-title\"><a href=\"https://www.yucatan.com.mx/merida/el-sondeo-megamedia-esta-preparado-el-sistema-de-educacion-basica-para-las-clases-en-linea\" rel=\"bookmark\">El Sondeo Megamedia: ¿Está preparado el sistema de educación básica para las clases en línea?</a></h2>,\n",
       " <h2 class=\"g1-gamma g1-gamma-1st entry-title\"><a href=\"https://www.yucatan.com.mx/merida/rescatar-el-empleo\" rel=\"bookmark\">Rescatar el empleo</a></h2>,\n",
       " <h2 class=\"g1-gamma g1-gamma-1st entry-title\"><a href=\"https://www.yucatan.com.mx/merida/amenazan-la-peninsula\" rel=\"bookmark\">Amenazan la Península</a></h2>,\n",
       " <h2 class=\"g1-gamma g1-gamma-1st entry-title\"><a href=\"https://www.yucatan.com.mx/merida/la-apertura-seria-escalonada\" rel=\"bookmark\">La apertura sería escalonada</a></h2>,\n",
       " <h2 class=\"g1-gamma g1-gamma-1st entry-title\"><a href=\"https://www.yucatan.com.mx/merida/lo-aprobado-en-20-meses-subiria-a-5800-millones\" rel=\"bookmark\">Deuda duplicada</a></h2>,\n",
       " <h2 class=\"g1-gamma g1-gamma-1st entry-title\"><a href=\"https://www.yucatan.com.mx/yucatan/roban-150-mil-pesos-a-empleada-de-una-gasolinera-de-ticul\" rel=\"bookmark\">Roban 150 mil pesos a empleada de una gasolinera de Ticul</a></h2>,\n",
       " <h2 class=\"g1-gamma g1-gamma-1st entry-title\"><a href=\"https://www.yucatan.com.mx/yucatan/oracion-por-las-mamas\" rel=\"bookmark\">Oración por las mamás</a></h2>,\n",
       " <h2 class=\"g1-gamma g1-gamma-1st entry-title\"><a href=\"https://www.yucatan.com.mx/yucatan/alumnos-del-itssy-recibiran-apoyo-para-el-desarrollo\" rel=\"bookmark\">Impulsan proyectos</a></h2>,\n",
       " <h2 class=\"g1-gamma g1-gamma-1st entry-title\"><a href=\"https://www.yucatan.com.mx/yucatan/marcan-los-autos-de-uayma\" rel=\"bookmark\">“Marcan” los autos de Uayma</a></h2>,\n",
       " <h2 class=\"g1-gamma g1-gamma-1st entry-title\"><a href=\"https://www.yucatan.com.mx/yucatan/tomates-al-suelo\" rel=\"bookmark\">Tomates, al suelo</a></h2>,\n",
       " <h2 class=\"g1-gamma g1-gamma-1st entry-title\"><a href=\"https://www.yucatan.com.mx/yucatan/concluye-la-entrega-de-viveres\" rel=\"bookmark\">Concluye la entrega de víveres</a></h2>,\n",
       " <h2 class=\"g1-gamma g1-gamma-1st entry-title\"><a href=\"https://www.yucatan.com.mx/merida/dia-de-las-madres-en-merida-entre-calles-vacias-y-servicio-a-domicilio\" rel=\"bookmark\">Día de las madres en Mérida, entre calles vacías y servicio a domicilio</a></h2>,\n",
       " <h2 class=\"g1-gamma g1-gamma-1st entry-title\"><a href=\"https://www.yucatan.com.mx/merida/largas-filas-en-supermercado-de-merida-por-el-dia-de-la-madre\" rel=\"bookmark\">Largas filas en  supermercado de Mérida por el Día de la Madre</a></h2>,\n",
       " <h2 class=\"g1-gamma g1-gamma-1st entry-title\"><a href=\"https://www.yucatan.com.mx/espectaculos/el-mago-roy-horn-del-dueto-siegfried-roy-fallece-por-coronavirus\" rel=\"bookmark\">El mago Roy Horn, del dueto Siegfried &amp; Roy, fallece por coronavirus</a></h2>,\n",
       " <h2 class=\"g1-gamma g1-gamma-1st entry-title\"><a href=\"https://www.yucatan.com.mx/espectaculos/revelan-audio-entre-karla-luna-y-karla-panini-destruiste-mi-matrimonio\" rel=\"bookmark\">Revelan  audio entre Karla Luna  y Karla Panini: \"Destruiste mi matrimonio\"</a></h2>,\n",
       " <h2 class=\"g1-gamma g1-gamma-1st entry-title\"><a href=\"https://www.yucatan.com.mx/mexico/tromba-en-apodaca-deja-dos-muertos-y-cuantiosos-danos\" rel=\"bookmark\">Tromba en Apodaca deja dos muertos y cuantiosos daños</a></h2>,\n",
       " <h2 class=\"g1-gamma g1-gamma-1st entry-title\"><a href=\"https://www.yucatan.com.mx/mexico/lopez-gatell-responde-al-nyt-niega-que-se-oculten-cifras\" rel=\"bookmark\">López-Gatell responde al NYT: niega que se oculten cifras</a></h2>,\n",
       " <h2 class=\"g1-gamma g1-gamma-1st entry-title\"><a href=\"https://www.yucatan.com.mx/mexico/investigan-homicidio-de-exjudicial-y-su-familia-en-la-carretera-a-xulha\" rel=\"bookmark\">Investigan homicidio de exjudicial y su familia en la carretera a XulHa</a></h2>,\n",
       " <h2 class=\"g1-gamma g1-gamma-1st entry-title\"><a href=\"https://www.yucatan.com.mx/mexico/adultos-mayores-contagiados-de-covid-19-en-un-asilo-ya-en-el-hospital\" rel=\"bookmark\">Adultos mayores contagiados de Covid-19 en un asilo, ya en el hospital</a></h2>,\n",
       " <h2 class=\"g1-gamma g1-gamma-1st entry-title\"><a href=\"https://www.yucatan.com.mx/mexico/ya-hay-nidos-de-tortugas-en-isla-de-mujeres-la-guardia-nacional-los-vigila\" rel=\"bookmark\">Ya hay nidos de tortuga en Isla de Mujeres</a></h2>,\n",
       " <h2 class=\"g1-gamma g1-gamma-1st entry-title\"><a href=\"https://www.yucatan.com.mx/mexico/asesinos-de-trabajadoras-del-imss-de-torreon-querian-sus-ahorros-amlo\" rel=\"bookmark\">Asesinos de trabajadoras del IMSS de Torreón querían sus ahorros: AMLO</a></h2>,\n",
       " <h2 class=\"g1-gamma g1-gamma-1st entry-title\"><a href=\"https://www.yucatan.com.mx/mexico/amlo-ofrece-disculpas-a-medicos-que-se-sintieron-ofendidos\" rel=\"bookmark\">AMLO ofrece disculpas a médicos que se sintieron ofendidos</a></h2>,\n",
       " <h2 class=\"g1-gamma g1-gamma-1st entry-title\"><a href=\"https://www.yucatan.com.mx/mexico/la-suprema-corte-tira-la-ley-bonilla-la-declara-inconstitucional\" rel=\"bookmark\">La Suprema Corte tira la \"Ley Bonilla\", la declara inconstitucional</a></h2>,\n",
       " <h2 class=\"g1-gamma g1-gamma-1st entry-title\"><a href=\"https://www.yucatan.com.mx/espectaculos/katy-perry-se-transforma-en-una-mama-dumbo\" rel=\"bookmark\">Katy Perry se transforma en una Mamá Dumbo</a></h2>,\n",
       " <h2 class=\"g1-gamma g1-gamma-1st entry-title\"><a href=\"https://www.yucatan.com.mx/espectaculos/juan-gabriel-esta-vivo-la-verdad-tras-el-video-viral-del-divo-de-juarez\" rel=\"bookmark\">¿Juan Gabriel está vivo? La verdad tras el vídeo viral del \"Divo de Juárez\"</a></h2>,\n",
       " <h2 class=\"g1-gamma g1-gamma-1st entry-title\"><a href=\"https://www.yucatan.com.mx/espectaculos/habra-secuela-de-bohemian-rhapsody-brian-may-aclara\" rel=\"bookmark\">¿Habrá secuela de Bohemian Rhapsody? Brian May aclara</a></h2>,\n",
       " <h2 class=\"g1-gamma g1-gamma-1st entry-title\"><a href=\"https://www.yucatan.com.mx/espectaculos/muere-el-comediante-y-actor-de-seinfeld-jerry-stiller\" rel=\"bookmark\">Muere el comediante y actor de Seinfeld, Jerry Stiller</a></h2>,\n",
       " <h2 class=\"g1-gamma g1-gamma-1st entry-title\"><a href=\"https://www.yucatan.com.mx/espectaculos/girasoles-refleja-los-sentimientos-de-luis-fonsi\" rel=\"bookmark\">“Vamos a estar bien”</a></h2>,\n",
       " <h2 class=\"g1-gamma g1-gamma-1st entry-title\"><a href=\"https://www.yucatan.com.mx/espectaculos/las-que-no-iban-a-salir-lo-nuevo-de-bad-bunny\" rel=\"bookmark\">Sorpresa para sus fanáticos</a></h2>,\n",
       " <h2 class=\"g1-gamma g1-gamma-1st entry-title\"><a href=\"https://www.yucatan.com.mx/deportes/en-redes-sociales-matan-a-rey-mysterio-tras-perder-en-money-in-the-bank\" rel=\"bookmark\">En redes sociales \"matan\" a Rey Mysterio tras perder en \"Money in the bank\"</a></h2>,\n",
       " <h2 class=\"g1-gamma g1-gamma-1st entry-title\"><a href=\"https://www.yucatan.com.mx/deportes/lionel-messi-dona-medio-millon-de-euros-a-hospitales-en-argentina\" rel=\"bookmark\">Lionel Messi dona medio millón de euros a hospitales en Argentina</a></h2>,\n",
       " <h2 class=\"g1-gamma g1-gamma-1st entry-title\"><a href=\"https://www.yucatan.com.mx/deportes/jugador-italiano-de-19-anos-fallece-por-un-aneurisma\" rel=\"bookmark\">Jugador italiano de 19 años, fallece por un aneurisma</a></h2>,\n",
       " <h2 class=\"g1-gamma g1-gamma-1st entry-title\"><a href=\"https://www.yucatan.com.mx/deportes/el-deporte-ya-respira\" rel=\"bookmark\">El deporte ya respira</a></h2>,\n",
       " <h2 class=\"g1-gamma g1-gamma-1st entry-title\"><a href=\"https://www.yucatan.com.mx/deportes/mas-riesgo-mas-pago\" rel=\"bookmark\">Más riesgo, más pago</a></h2>,\n",
       " <h2 class=\"g1-gamma g1-gamma-1st entry-title\"><a href=\"https://www.yucatan.com.mx/deportes/tyson-no-deberia-regresar\" rel=\"bookmark\">Tyson no debería regresar</a></h2>,\n",
       " <h2 class=\"g1-gamma g1-gamma-1st entry-title\"><a href=\"https://www.yucatan.com.mx/espectaculos/juan-gabriel-esta-vivo-la-verdad-tras-el-video-viral-del-divo-de-juarez\" rel=\"bookmark\">¿Juan Gabriel está vivo? La verdad tras el vídeo viral del \"Divo de Juárez\"</a></h2>,\n",
       " <h2 class=\"g1-gamma g1-gamma-1st entry-title\"><a href=\"https://www.yucatan.com.mx/tecnologia/la-realidad-virtual-una-alternativa-interesante-al-igaming\" rel=\"bookmark\">La realidad virtual: una alternativa interesante al iGaming</a></h2>,\n",
       " <h2 class=\"g1-gamma g1-gamma-1st entry-title\"><a href=\"https://www.yucatan.com.mx/tecnologia/como-ganar-dinero-mientras-navegas-por-internet\" rel=\"bookmark\">¿Cómo ganar dinero mientras navegas por Internet?</a></h2>,\n",
       " <h2 class=\"g1-gamma g1-gamma-1st entry-title\"><a href=\"https://www.yucatan.com.mx/imagen/desde-roma-el-inicio-del-regreso-a-la-normalidad\" rel=\"bookmark\">Desde Roma: El inicio del regreso a la normalidad</a></h2>,\n",
       " <h2 class=\"g1-gamma g1-gamma-1st entry-title\"><a href=\"https://www.yucatan.com.mx/imagen/cosas-de-mascotas-el-labrador-aun-es-el-favorito\" rel=\"bookmark\">Cosas de mascotas: El labrador aún es el favorito</a></h2>,\n",
       " <h2 class=\"g1-gamma g1-gamma-1st entry-title\"><a href=\"https://www.yucatan.com.mx/imagen/llegan-a-estados-unidos-grandes-avispones-asesinos\" rel=\"bookmark\">Con licencia para matar</a></h2>,\n",
       " <h2 class=\"g1-gamma g1-gamma-1st entry-title\"><a href=\"https://www.yucatan.com.mx/internacional/la-mujer-mas-longeva-de-espana-supera-el-covid-19-tiene-113-anos\" rel=\"bookmark\">La mujer más longeva de España supera el Covid-19; tiene 113 años</a></h2>,\n",
       " <h2 class=\"g1-gamma g1-gamma-1st entry-title\"><a href=\"https://www.yucatan.com.mx/internacional/banco-central-de-japon-nombra-primera-directora-ejecutiva-de-su-historia\" rel=\"bookmark\">Banco Central de Japón nombra primera directora ejecutiva de su historia</a></h2>,\n",
       " <h2 class=\"g1-gamma g1-gamma-1st entry-title\"><a href=\"https://www.yucatan.com.mx/internacional/europa/fallece-ministro-luterano-que-habia-negado-la-existencia-de-dios\" rel=\"bookmark\">Fallece ministro luterano que había negado la existencia de Dios</a></h2>,\n",
       " <h2 class=\"g1-gamma g1-gamma-1st entry-title\"><a href=\"https://www.yucatan.com.mx/internacional/america/donald-trump-en-riesgo-ante-contagios-de-covid-19-entre-el-personal-de-la-casa-blanca\" rel=\"bookmark\">Donald Trump en riesgo ante contagios de Covid-19 entre el personal de la Casa Blanca</a></h2>,\n",
       " <h2 class=\"g1-gamma g1-gamma-1st entry-title\"><a href=\"https://www.yucatan.com.mx/internacional/olvidan-la-sana-distancia-por-la-necesidad-de-entrar-a-una-tienda-de-ropa\" rel=\"bookmark\">Olvidan la sana distancia por la \"necesidad\" de entrar a una tienda de ropa</a></h2>,\n",
       " <h2 class=\"g1-gamma g1-gamma-1st entry-title\"><a href=\"https://www.yucatan.com.mx/internacional/epidemiologo-sueco-justifica-su-plan-todos-nos-vamos-a-contagiar\" rel=\"bookmark\">Epidemiólogo sueco justifica su plan: \"Todos nos vamos a contagiar\"</a></h2>,\n",
       " <h2 class=\"g1-gamma g1-gamma-1st entry-title\"><a href=\"https://www.yucatan.com.mx/editorial/tunkul-politico-crece-el-miedo-social\" rel=\"bookmark\">Tunkul Político: \"Crece el miedo social\"</a></h2>,\n",
       " <h2 class=\"g1-gamma g1-gamma-1st entry-title\"><a href=\"https://www.yucatan.com.mx/editorial/carton-de-tony-endeudamiento-sin-ataduras\" rel=\"bookmark\">Cartón de Tony: Endeudamiento sin ataduras</a></h2>,\n",
       " <h2 class=\"g1-gamma g1-gamma-1st entry-title\"><a href=\"https://www.yucatan.com.mx/editorial/carton-de-tony-polemista-de-cuarta\" rel=\"bookmark\">Cartón de Tony: Polemista de cuarta</a></h2>,\n",
       " <h2 class=\"g1-gamma g1-gamma-1st entry-title\"><a href=\"https://www.yucatan.com.mx/editorial/rodrigo-llanes-salazar-ante-los-nuevos-habitos\" rel=\"bookmark\">Rodrigo Llanes Salazar: Ante los nuevos hábitos</a></h2>,\n",
       " <h2 class=\"g1-gamma g1-gamma-1st entry-title\"><a href=\"https://www.yucatan.com.mx/editorial/aprendamos-lecciones-trascendentes\" rel=\"bookmark\">Aprendamos lecciones trascendentes</a></h2>,\n",
       " <h2 class=\"g1-gamma g1-gamma-1st entry-title\"><a href=\"https://www.yucatan.com.mx/editorial/el-deseo-de-meterse-en-la-historia\" rel=\"bookmark\">El deseo de meterse en la historia</a></h2>]"
      ]
     },
     "execution_count": 50,
     "metadata": {},
     "output_type": "execute_result"
    }
   ],
   "source": [
    "\n",
    "tags = res.findAll(\"h2\", {\"class\": \"entry-title\"})\n",
    "tags"
   ]
  },
  {
   "cell_type": "code",
   "execution_count": 49,
   "metadata": {},
   "outputs": [
    {
     "name": "stdout",
     "output_type": "stream",
     "text": [
      "HTTP Error 403: Forbidden\n"
     ]
    }
   ],
   "source": []
  },
  {
   "cell_type": "code",
   "execution_count": 10,
   "metadata": {},
   "outputs": [
    {
     "data": {
      "text/plain": [
       "<Response [200]>"
      ]
     },
     "execution_count": 10,
     "metadata": {},
     "output_type": "execute_result"
    }
   ],
   "source": [
    "economista"
   ]
  },
  {
   "cell_type": "code",
   "execution_count": null,
   "metadata": {},
   "outputs": [],
   "source": []
  },
  {
   "cell_type": "code",
   "execution_count": 45,
   "metadata": {},
   "outputs": [],
   "source": [
    "from bs4 import BeautifulSoup\n",
    "soup = BeautifulSoup(economista.content, 'html.parser')"
   ]
  },
  {
   "cell_type": "code",
   "execution_count": 46,
   "metadata": {},
   "outputs": [],
   "source": [
    "panel= soup.find(class_=\"pb clearfix\")\n"
   ]
  },
  {
   "cell_type": "code",
   "execution_count": 47,
   "metadata": {},
   "outputs": [],
   "source": [
    "fo = panel(class_=\"entry-title\")"
   ]
  },
  {
   "cell_type": "code",
   "execution_count": 24,
   "metadata": {},
   "outputs": [],
   "source": [
    "tonight = fo[0]"
   ]
  },
  {
   "cell_type": "code",
   "execution_count": 25,
   "metadata": {},
   "outputs": [
    {
     "name": "stdout",
     "output_type": "stream",
     "text": [
      "<div class=\"entry-title\">\n",
      " Emergencia sanitaria\n",
      "</div>\n",
      "\n"
     ]
    }
   ],
   "source": [
    "print(tonight.prettify())"
   ]
  },
  {
   "cell_type": "code",
   "execution_count": 51,
   "metadata": {},
   "outputs": [],
   "source": [
    "period = soup.find_all(class_=\"entry-title\")"
   ]
  },
  {
   "cell_type": "code",
   "execution_count": 52,
   "metadata": {},
   "outputs": [
    {
     "name": "stdout",
     "output_type": "stream",
     "text": [
      "[<div class=\"entry-title\">\n",
      "</div>, <span class=\"entry-title\">tras freno por contingencia</span>, <span class=\"entry-title\">ante el confinamiento por el coronavirus</span>, <span class=\"entry-title\">Tipo de cambio</span>, <span class=\"entry-title\">Identifican nuevo desafío</span>, <span class=\"entry-title\">Diario Oficial de la Federación</span>, <span class=\"entry-title\">desarrollo social</span>, <span class=\"entry-title\">pobreza y desigualdad</span>, <span class=\"entry-title\">Se estima que la medida deje al erario 4,400 mdp</span>, <span class=\"entry-title\">Publicó su reporte anual a la bolsa de EU</span>, <p class=\"entry-title\">#ConferenciaMañanera</p>, <p class=\"entry-title\">Conferencia mañanera</p>, <p class=\"entry-title\">ante el temor de un rebrote de Covid-19</p>, <p class=\"entry-title\">En el 2020 ventas del sector retrocederán 40%: INA</p>, <p class=\"entry-title\">Llegada de turistas toca mínimo histórico</p>, <p class=\"entry-title\">Senado de la República</p>, <p class=\"entry-title\">Información oficial</p>, <p class=\"entry-title\">Contenido comercial</p>, <p class=\"entry-title\">Información oficial</p>, <p class=\"entry-title\">Información oficial</p>, <p class=\"entry-title\">Información Oficial</p>, <p class=\"entry-title\">#Esbuenosaber</p>, <p class=\"entry-title\">Información oficial</p>, <p class=\"entry-title\">Contenido comercial</p>]\n"
     ]
    }
   ],
   "source": [
    "print(period)"
   ]
  },
  {
   "cell_type": "code",
   "execution_count": 53,
   "metadata": {},
   "outputs": [],
   "source": [
    "period_tags = panel.select(\".entry-title\")"
   ]
  },
  {
   "cell_type": "code",
   "execution_count": 54,
   "metadata": {},
   "outputs": [],
   "source": [
    "periods = [pt.get_text() for pt in period]"
   ]
  },
  {
   "cell_type": "code",
   "execution_count": null,
   "metadata": {},
   "outputs": [],
   "source": []
  },
  {
   "cell_type": "code",
   "execution_count": 55,
   "metadata": {},
   "outputs": [
    {
     "data": {
      "text/plain": [
       "['\\n',\n",
       " 'tras freno por contingencia',\n",
       " 'ante el confinamiento por el coronavirus',\n",
       " 'Tipo de cambio',\n",
       " 'Identifican nuevo desafío',\n",
       " 'Diario Oficial de la Federación',\n",
       " 'desarrollo social',\n",
       " 'pobreza y desigualdad',\n",
       " 'Se estima que la medida deje al erario 4,400 mdp',\n",
       " 'Publicó su reporte anual a la bolsa de EU',\n",
       " '#ConferenciaMañanera',\n",
       " 'Conferencia mañanera',\n",
       " 'ante el temor de un rebrote de Covid-19',\n",
       " 'En el 2020 ventas del sector retrocederán 40%: INA',\n",
       " 'Llegada de turistas toca mínimo histórico',\n",
       " 'Senado de la República',\n",
       " 'Información oficial',\n",
       " 'Contenido comercial',\n",
       " 'Información oficial',\n",
       " 'Información oficial',\n",
       " 'Información Oficial',\n",
       " '#Esbuenosaber',\n",
       " 'Información oficial',\n",
       " 'Contenido comercial']"
      ]
     },
     "execution_count": 55,
     "metadata": {},
     "output_type": "execute_result"
    }
   ],
   "source": [
    "periods"
   ]
  },
  {
   "cell_type": "code",
   "execution_count": 56,
   "metadata": {},
   "outputs": [
    {
     "data": {
      "text/html": [
       "<div>\n",
       "<style scoped>\n",
       "    .dataframe tbody tr th:only-of-type {\n",
       "        vertical-align: middle;\n",
       "    }\n",
       "\n",
       "    .dataframe tbody tr th {\n",
       "        vertical-align: top;\n",
       "    }\n",
       "\n",
       "    .dataframe thead th {\n",
       "        text-align: right;\n",
       "    }\n",
       "</style>\n",
       "<table border=\"1\" class=\"dataframe\">\n",
       "  <thead>\n",
       "    <tr style=\"text-align: right;\">\n",
       "      <th></th>\n",
       "      <th>noticias</th>\n",
       "    </tr>\n",
       "  </thead>\n",
       "  <tbody>\n",
       "    <tr>\n",
       "      <th>0</th>\n",
       "      <td>\\n</td>\n",
       "    </tr>\n",
       "    <tr>\n",
       "      <th>1</th>\n",
       "      <td>tras freno por contingencia</td>\n",
       "    </tr>\n",
       "    <tr>\n",
       "      <th>2</th>\n",
       "      <td>ante el confinamiento por el coronavirus</td>\n",
       "    </tr>\n",
       "    <tr>\n",
       "      <th>3</th>\n",
       "      <td>Tipo de cambio</td>\n",
       "    </tr>\n",
       "    <tr>\n",
       "      <th>4</th>\n",
       "      <td>Identifican nuevo desafío</td>\n",
       "    </tr>\n",
       "    <tr>\n",
       "      <th>5</th>\n",
       "      <td>Diario Oficial de la Federación</td>\n",
       "    </tr>\n",
       "    <tr>\n",
       "      <th>6</th>\n",
       "      <td>desarrollo social</td>\n",
       "    </tr>\n",
       "    <tr>\n",
       "      <th>7</th>\n",
       "      <td>pobreza y desigualdad</td>\n",
       "    </tr>\n",
       "    <tr>\n",
       "      <th>8</th>\n",
       "      <td>Se estima que la medida deje al erario 4,400 mdp</td>\n",
       "    </tr>\n",
       "    <tr>\n",
       "      <th>9</th>\n",
       "      <td>Publicó su reporte anual a la bolsa de EU</td>\n",
       "    </tr>\n",
       "    <tr>\n",
       "      <th>10</th>\n",
       "      <td>#ConferenciaMañanera</td>\n",
       "    </tr>\n",
       "    <tr>\n",
       "      <th>11</th>\n",
       "      <td>Conferencia mañanera</td>\n",
       "    </tr>\n",
       "    <tr>\n",
       "      <th>12</th>\n",
       "      <td>ante el temor de un rebrote de Covid-19</td>\n",
       "    </tr>\n",
       "    <tr>\n",
       "      <th>13</th>\n",
       "      <td>En el 2020 ventas del sector retrocederán 40%:...</td>\n",
       "    </tr>\n",
       "    <tr>\n",
       "      <th>14</th>\n",
       "      <td>Llegada de turistas toca mínimo histórico</td>\n",
       "    </tr>\n",
       "    <tr>\n",
       "      <th>15</th>\n",
       "      <td>Senado de la República</td>\n",
       "    </tr>\n",
       "    <tr>\n",
       "      <th>16</th>\n",
       "      <td>Información oficial</td>\n",
       "    </tr>\n",
       "    <tr>\n",
       "      <th>17</th>\n",
       "      <td>Contenido comercial</td>\n",
       "    </tr>\n",
       "    <tr>\n",
       "      <th>18</th>\n",
       "      <td>Información oficial</td>\n",
       "    </tr>\n",
       "    <tr>\n",
       "      <th>19</th>\n",
       "      <td>Información oficial</td>\n",
       "    </tr>\n",
       "    <tr>\n",
       "      <th>20</th>\n",
       "      <td>Información Oficial</td>\n",
       "    </tr>\n",
       "    <tr>\n",
       "      <th>21</th>\n",
       "      <td>#Esbuenosaber</td>\n",
       "    </tr>\n",
       "    <tr>\n",
       "      <th>22</th>\n",
       "      <td>Información oficial</td>\n",
       "    </tr>\n",
       "    <tr>\n",
       "      <th>23</th>\n",
       "      <td>Contenido comercial</td>\n",
       "    </tr>\n",
       "  </tbody>\n",
       "</table>\n",
       "</div>"
      ],
      "text/plain": [
       "                                             noticias\n",
       "0                                                  \\n\n",
       "1                         tras freno por contingencia\n",
       "2            ante el confinamiento por el coronavirus\n",
       "3                                      Tipo de cambio\n",
       "4                           Identifican nuevo desafío\n",
       "5                     Diario Oficial de la Federación\n",
       "6                                   desarrollo social\n",
       "7                               pobreza y desigualdad\n",
       "8    Se estima que la medida deje al erario 4,400 mdp\n",
       "9           Publicó su reporte anual a la bolsa de EU\n",
       "10                               #ConferenciaMañanera\n",
       "11                               Conferencia mañanera\n",
       "12            ante el temor de un rebrote de Covid-19\n",
       "13  En el 2020 ventas del sector retrocederán 40%:...\n",
       "14          Llegada de turistas toca mínimo histórico\n",
       "15                             Senado de la República\n",
       "16                                Información oficial\n",
       "17                                Contenido comercial\n",
       "18                                Información oficial\n",
       "19                                Información oficial\n",
       "20                                Información Oficial\n",
       "21                                      #Esbuenosaber\n",
       "22                                Información oficial\n",
       "23                                Contenido comercial"
      ]
     },
     "execution_count": 56,
     "metadata": {},
     "output_type": "execute_result"
    }
   ],
   "source": [
    "import pandas as pd\n",
    "weather = pd.DataFrame({\n",
    "    \"noticias\": periods,\n",
    "   \n",
    "})\n",
    "weather"
   ]
  }
 ],
 "metadata": {
  "kernelspec": {
   "display_name": "Python 3",
   "language": "python",
   "name": "python3"
  },
  "language_info": {
   "codemirror_mode": {
    "name": "ipython",
    "version": 3
   },
   "file_extension": ".py",
   "mimetype": "text/x-python",
   "name": "python",
   "nbconvert_exporter": "python",
   "pygments_lexer": "ipython3",
   "version": "3.8.1"
  }
 },
 "nbformat": 4,
 "nbformat_minor": 2
}
