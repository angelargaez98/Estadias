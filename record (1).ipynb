{
 "cells": [
  {
   "cell_type": "code",
   "execution_count": 21,
   "metadata": {},
   "outputs": [],
   "source": [
    "import requests\n",
    "record = requests.get(\"https://www.record.com.mx/\")"
   ]
  },
  {
   "cell_type": "code",
   "execution_count": 3,
   "metadata": {},
   "outputs": [
    {
     "data": {
      "text/plain": [
       "<Response [200]>"
      ]
     },
     "execution_count": 3,
     "metadata": {},
     "output_type": "execute_result"
    }
   ],
   "source": [
    "record\n"
   ]
  },
  {
   "cell_type": "raw",
   "metadata": {},
   "source": []
  },
  {
   "cell_type": "code",
   "execution_count": 19,
   "metadata": {},
   "outputs": [
    {
     "name": "stdout",
     "output_type": "stream",
     "text": [
      "HTTP Error 403: Forbidden\n"
     ]
    }
   ],
   "source": [
    "from urllib.request import urlopen\n",
    "\n",
    "from urllib.error import HTTPError\n",
    "\n",
    "from urllib.error import URLError\n",
    "\n",
    "from bs4 import BeautifulSoup\n",
    "\n",
    "try:\n",
    "\n",
    "    html = urlopen(\"https://www.record.com.mx/\")\n",
    "\n",
    "except HTTPError as e:\n",
    "\n",
    "    print(e)\n",
    "\n",
    "except URLError:\n",
    "\n",
    "    print(\"Server down or incorrect domain\")\n",
    "\n",
    "else:\n",
    "\n",
    "    res = BeautifulSoup(html.read(),\"html\")\n",
    "\n",
    "    tags = res.findAll(\"a\", {\"class\": \"grid effect-2\"})\n"
   ]
  },
  {
   "cell_type": "code",
   "execution_count": 11,
   "metadata": {},
   "outputs": [],
   "source": [
    "from urllib.request import urlopen\n",
    "from urllib.error import HTTPError\n",
    "from bs4 import BeautifulSoup\n",
    "\n"
   ]
  },
  {
   "cell_type": "code",
   "execution_count": 31,
   "metadata": {},
   "outputs": [
    {
     "data": {
      "text/plain": [
       "[]"
      ]
     },
     "execution_count": 31,
     "metadata": {},
     "output_type": "execute_result"
    }
   ],
   "source": []
  },
  {
   "cell_type": "code",
   "execution_count": 32,
   "metadata": {},
   "outputs": [],
   "source": [
    "tags= soup.find(class_=\"grid effect-2\")"
   ]
  },
  {
   "cell_type": "code",
   "execution_count": null,
   "metadata": {},
   "outputs": [],
   "source": []
  },
  {
   "cell_type": "code",
   "execution_count": 35,
   "metadata": {},
   "outputs": [],
   "source": [
    "from bs4 import BeautifulSoup\n",
    "soup = BeautifulSoup(record.content, 'html.parser')"
   ]
  },
  {
   "cell_type": "code",
   "execution_count": 36,
   "metadata": {},
   "outputs": [],
   "source": [
    "forecast_items = panel(class_=\"itemTit views-field-title\")\n"
   ]
  },
  {
   "cell_type": "code",
   "execution_count": 37,
   "metadata": {},
   "outputs": [],
   "source": [
    "tonight = forecast_items[0]\n"
   ]
  },
  {
   "cell_type": "code",
   "execution_count": 38,
   "metadata": {},
   "outputs": [
    {
     "name": "stdout",
     "output_type": "stream",
     "text": [
      "<div class=\"itemTit views-field-title\">\n",
      " <a href=\"/futbol-futbol-internacional-internacionales/fiorentina-seguira-con-entrenamientos-individuales-tras\" title=\"Jugadores de la 'Viola' al final de un partido\">\n",
      "  Fiorentina seguirá con entrenamientos individuales tras tres positivos de Covid-19\n",
      " </a>\n",
      "</div>\n",
      "\n"
     ]
    }
   ],
   "source": [
    "\n",
    "print(tonight.prettify())"
   ]
  },
  {
   "cell_type": "code",
   "execution_count": 40,
   "metadata": {},
   "outputs": [],
   "source": [
    "period = soup.find_all(class_=\"itemTit views-field-title\")"
   ]
  },
  {
   "cell_type": "code",
   "execution_count": null,
   "metadata": {},
   "outputs": [],
   "source": []
  },
  {
   "cell_type": "code",
   "execution_count": 41,
   "metadata": {},
   "outputs": [],
   "source": [
    "period_tags = panel.select(\".itemTit views-field-title\")\n"
   ]
  },
  {
   "cell_type": "code",
   "execution_count": 42,
   "metadata": {},
   "outputs": [
    {
     "data": {
      "text/plain": [
       "[]"
      ]
     },
     "execution_count": 42,
     "metadata": {},
     "output_type": "execute_result"
    }
   ],
   "source": [
    "period_tags"
   ]
  },
  {
   "cell_type": "code",
   "execution_count": 107,
   "metadata": {},
   "outputs": [],
   "source": [
    "periods = [pt.get_text() for pt in period]\n"
   ]
  },
  {
   "cell_type": "code",
   "execution_count": 108,
   "metadata": {},
   "outputs": [
    {
     "data": {
      "text/plain": [
       "[\"Chelís: 'Pude dirigir al Oviedo y estúpidamente le dije que no'\",\n",
       " \"Barcelona utilizaría a Griezmann como 'moneda de cambio' por Neymar\",\n",
       " 'Wayne Rooney le jugó una broma pesada a compañero de la Selección de Inglaterra en 2009',\n",
       " '¿Cómo recibió Toño García a Piojo Herrera en Cancún cuando regresó con Atlante?',\n",
       " 'Racing ayudó a dos de sus aficionados, varados en Venezuela, a volver a Argentina',\n",
       " 'Jens Lehmann reemplazará a Klinsmann como asesor del Hertha Berlin',\n",
       " 'Otis y Asuka, los ganadores de Money in the Bank 2020',\n",
       " 'Dueño de Patriots subastará anillo de Super Bowl LI por una buena causa',\n",
       " \"Trump a Obama: 'Lo estamos haciendo bien; tu manejo de la gripe porcina fue peor'\",\n",
       " 'MLB: Menos del uno por ciento del personal de Grandes Ligas dio positivo por Covid-19']"
      ]
     },
     "execution_count": 108,
     "metadata": {},
     "output_type": "execute_result"
    }
   ],
   "source": [
    "periods"
   ]
  },
  {
   "cell_type": "code",
   "execution_count": 109,
   "metadata": {},
   "outputs": [
    {
     "data": {
      "text/html": [
       "<div>\n",
       "<style scoped>\n",
       "    .dataframe tbody tr th:only-of-type {\n",
       "        vertical-align: middle;\n",
       "    }\n",
       "\n",
       "    .dataframe tbody tr th {\n",
       "        vertical-align: top;\n",
       "    }\n",
       "\n",
       "    .dataframe thead th {\n",
       "        text-align: right;\n",
       "    }\n",
       "</style>\n",
       "<table border=\"1\" class=\"dataframe\">\n",
       "  <thead>\n",
       "    <tr style=\"text-align: right;\">\n",
       "      <th></th>\n",
       "      <th>noticias</th>\n",
       "    </tr>\n",
       "  </thead>\n",
       "  <tbody>\n",
       "    <tr>\n",
       "      <th>0</th>\n",
       "      <td>Chelís: 'Pude dirigir al Oviedo y estúpidament...</td>\n",
       "    </tr>\n",
       "    <tr>\n",
       "      <th>1</th>\n",
       "      <td>Barcelona utilizaría a Griezmann como 'moneda ...</td>\n",
       "    </tr>\n",
       "    <tr>\n",
       "      <th>2</th>\n",
       "      <td>Wayne Rooney le jugó una broma pesada a compañ...</td>\n",
       "    </tr>\n",
       "    <tr>\n",
       "      <th>3</th>\n",
       "      <td>¿Cómo recibió Toño García a Piojo Herrera en C...</td>\n",
       "    </tr>\n",
       "    <tr>\n",
       "      <th>4</th>\n",
       "      <td>Racing ayudó a dos de sus aficionados, varados...</td>\n",
       "    </tr>\n",
       "    <tr>\n",
       "      <th>5</th>\n",
       "      <td>Jens Lehmann reemplazará a Klinsmann como ases...</td>\n",
       "    </tr>\n",
       "    <tr>\n",
       "      <th>6</th>\n",
       "      <td>Otis y Asuka, los ganadores de Money in the Ba...</td>\n",
       "    </tr>\n",
       "    <tr>\n",
       "      <th>7</th>\n",
       "      <td>Dueño de Patriots subastará anillo de Super Bo...</td>\n",
       "    </tr>\n",
       "    <tr>\n",
       "      <th>8</th>\n",
       "      <td>Trump a Obama: 'Lo estamos haciendo bien; tu m...</td>\n",
       "    </tr>\n",
       "    <tr>\n",
       "      <th>9</th>\n",
       "      <td>MLB: Menos del uno por ciento del personal de ...</td>\n",
       "    </tr>\n",
       "  </tbody>\n",
       "</table>\n",
       "</div>"
      ],
      "text/plain": [
       "                                            noticias\n",
       "0  Chelís: 'Pude dirigir al Oviedo y estúpidament...\n",
       "1  Barcelona utilizaría a Griezmann como 'moneda ...\n",
       "2  Wayne Rooney le jugó una broma pesada a compañ...\n",
       "3  ¿Cómo recibió Toño García a Piojo Herrera en C...\n",
       "4  Racing ayudó a dos de sus aficionados, varados...\n",
       "5  Jens Lehmann reemplazará a Klinsmann como ases...\n",
       "6  Otis y Asuka, los ganadores de Money in the Ba...\n",
       "7  Dueño de Patriots subastará anillo de Super Bo...\n",
       "8  Trump a Obama: 'Lo estamos haciendo bien; tu m...\n",
       "9  MLB: Menos del uno por ciento del personal de ..."
      ]
     },
     "execution_count": 109,
     "metadata": {},
     "output_type": "execute_result"
    }
   ],
   "source": [
    "import pandas as pd\n",
    "weather = pd.DataFrame({\n",
    "    \"noticias\": periods,\n",
    "   \n",
    "})\n",
    "weather"
   ]
  }
 ],
 "metadata": {
  "kernelspec": {
   "display_name": "Python 3",
   "language": "python",
   "name": "python3"
  },
  "language_info": {
   "codemirror_mode": {
    "name": "ipython",
    "version": 3
   },
   "file_extension": ".py",
   "mimetype": "text/x-python",
   "name": "python",
   "nbconvert_exporter": "python",
   "pygments_lexer": "ipython3",
   "version": "3.8.1"
  }
 },
 "nbformat": 4,
 "nbformat_minor": 2
}
